{
 "cells": [
  {
   "cell_type": "code",
   "execution_count": 3,
   "id": "07fb9eca-5e60-4d1c-8c7b-12b0a36d3c67",
   "metadata": {
    "tags": []
   },
   "outputs": [],
   "source": [
    "import pandas as pd\n",
    "from datetime import datetime\n",
    "import numpy as np"
   ]
  },
  {
   "cell_type": "code",
   "execution_count": null,
   "id": "0bc36836",
   "metadata": {},
   "outputs": [],
   "source": [
    "!curl --output card_transaction_data.csv https://raw.githubusercontent.com/rh-aiservices-bu/fraud-detection/main/data/card_transdata.csv"
   ]
  },
  {
   "cell_type": "code",
   "execution_count": null,
   "id": "bcbcbc4c",
   "metadata": {},
   "outputs": [],
   "source": [
    "transaction_data = pd.read_csv(\"card_transaction_data.csv\")\n",
    "transaction_data.head()"
   ]
  },
  {
   "cell_type": "code",
   "execution_count": 31,
   "id": "1bbf4cec-a89c-4efe-9f2d-292bbe6eaade",
   "metadata": {
    "tags": []
   },
   "outputs": [],
   "source": [
    "timestamps = pd.date_range(\n",
    "    end=pd.Timestamp.now().replace(microsecond=0), \n",
    "    periods=len(transaction_data), \n",
    "    freq='1H'\n",
    ").to_frame(name=\"event_timestamp\", index=False)\n",
    "timestamps.head()"
   ]
  },
  {
   "cell_type": "code",
   "execution_count": null,
   "id": "bde45a35",
   "metadata": {},
   "outputs": [],
   "source": [
    "# timestamps['created_timestamp'] = timestamps['event_timestamp']"
   ]
  },
  {
   "cell_type": "code",
   "execution_count": 34,
   "id": "ec69aa7d-d58c-44da-ba75-4bc9c8d5e978",
   "metadata": {
    "tags": []
   },
   "outputs": [
    {
     "data": {
      "text/html": [
       "<div>\n",
       "<style scoped>\n",
       "    .dataframe tbody tr th:only-of-type {\n",
       "        vertical-align: middle;\n",
       "    }\n",
       "\n",
       "    .dataframe tbody tr th {\n",
       "        vertical-align: top;\n",
       "    }\n",
       "\n",
       "    .dataframe thead th {\n",
       "        text-align: right;\n",
       "    }\n",
       "</style>\n",
       "<table border=\"1\" class=\"dataframe\">\n",
       "  <thead>\n",
       "    <tr style=\"text-align: right;\">\n",
       "      <th></th>\n",
       "      <th>transaction_id</th>\n",
       "      <th>event_timestamp</th>\n",
       "    </tr>\n",
       "  </thead>\n",
       "  <tbody>\n",
       "    <tr>\n",
       "      <th>0</th>\n",
       "      <td>0</td>\n",
       "      <td>2024-06-30 19:27:50</td>\n",
       "    </tr>\n",
       "    <tr>\n",
       "      <th>1</th>\n",
       "      <td>1</td>\n",
       "      <td>2024-07-09 12:05:50</td>\n",
       "    </tr>\n",
       "    <tr>\n",
       "      <th>2</th>\n",
       "      <td>2</td>\n",
       "      <td>2024-05-06 12:24:44</td>\n",
       "    </tr>\n",
       "    <tr>\n",
       "      <th>3</th>\n",
       "      <td>3</td>\n",
       "      <td>2024-04-26 16:13:41</td>\n",
       "    </tr>\n",
       "    <tr>\n",
       "      <th>4</th>\n",
       "      <td>4</td>\n",
       "      <td>2024-02-15 00:21:43</td>\n",
       "    </tr>\n",
       "    <tr>\n",
       "      <th>...</th>\n",
       "      <td>...</td>\n",
       "      <td>...</td>\n",
       "    </tr>\n",
       "    <tr>\n",
       "      <th>999995</th>\n",
       "      <td>999995</td>\n",
       "      <td>2024-02-16 09:40:27</td>\n",
       "    </tr>\n",
       "    <tr>\n",
       "      <th>999996</th>\n",
       "      <td>999996</td>\n",
       "      <td>2024-03-15 12:01:33</td>\n",
       "    </tr>\n",
       "    <tr>\n",
       "      <th>999997</th>\n",
       "      <td>999997</td>\n",
       "      <td>2024-07-13 08:02:19</td>\n",
       "    </tr>\n",
       "    <tr>\n",
       "      <th>999998</th>\n",
       "      <td>999998</td>\n",
       "      <td>2024-04-15 11:21:04</td>\n",
       "    </tr>\n",
       "    <tr>\n",
       "      <th>999999</th>\n",
       "      <td>999999</td>\n",
       "      <td>2024-01-18 09:37:44</td>\n",
       "    </tr>\n",
       "  </tbody>\n",
       "</table>\n",
       "<p>1000000 rows × 2 columns</p>\n",
       "</div>"
      ],
      "text/plain": [
       "        transaction_id     event_timestamp\n",
       "0                    0 2024-06-30 19:27:50\n",
       "1                    1 2024-07-09 12:05:50\n",
       "2                    2 2024-05-06 12:24:44\n",
       "3                    3 2024-04-26 16:13:41\n",
       "4                    4 2024-02-15 00:21:43\n",
       "...                ...                 ...\n",
       "999995          999995 2024-02-16 09:40:27\n",
       "999996          999996 2024-03-15 12:01:33\n",
       "999997          999997 2024-07-13 08:02:19\n",
       "999998          999998 2024-04-15 11:21:04\n",
       "999999          999999 2024-01-18 09:37:44\n",
       "\n",
       "[1000000 rows x 2 columns]"
      ]
     },
     "execution_count": 34,
     "metadata": {},
     "output_type": "execute_result"
    }
   ],
   "source": [
    "df = pd.concat(objs=[transaction_data, timestamps], axis=1)\n",
    "df.head()"
   ]
  },
  {
   "cell_type": "code",
   "execution_count": null,
   "id": "a02ca6a8",
   "metadata": {},
   "outputs": [],
   "source": [
    "!rm -rf card_transaction_data.csv"
   ]
  },
  {
   "cell_type": "code",
   "execution_count": null,
   "id": "fd3d0b83",
   "metadata": {},
   "outputs": [],
   "source": [
    "df.to_csv(\"card_transaction_data.csv\")"
   ]
  }
 ],
 "metadata": {
  "kernelspec": {
   "display_name": "Python 3.9",
   "language": "python",
   "name": "python3"
  },
  "language_info": {
   "codemirror_mode": {
    "name": "ipython",
    "version": 3
   },
   "file_extension": ".py",
   "mimetype": "text/x-python",
   "name": "python",
   "nbconvert_exporter": "python",
   "pygments_lexer": "ipython3",
   "version": "3.9.16"
  }
 },
 "nbformat": 4,
 "nbformat_minor": 5
}
